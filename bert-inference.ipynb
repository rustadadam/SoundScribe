{
 "cells": [
  {
   "cell_type": "code",
   "execution_count": 1,
   "execution_state": "idle",
   "id": "71ab7b92-631d-489f-b89f-fcd99e7f9b9e",
   "metadata": {},
   "outputs": [
    {
     "name": "stderr",
     "output_type": "stream",
     "text": [
      "2025-04-13 06:07:46.137887: I tensorflow/core/util/port.cc:153] oneDNN custom operations are on. You may see slightly different numerical results due to floating-point round-off errors from different computation orders. To turn them off, set the environment variable `TF_ENABLE_ONEDNN_OPTS=0`.\n",
      "2025-04-13 06:07:46.368541: E external/local_xla/xla/stream_executor/cuda/cuda_fft.cc:485] Unable to register cuFFT factory: Attempting to register factory for plugin cuFFT when one has already been registered\n",
      "2025-04-13 06:07:46.420689: E external/local_xla/xla/stream_executor/cuda/cuda_dnn.cc:8454] Unable to register cuDNN factory: Attempting to register factory for plugin cuDNN when one has already been registered\n",
      "2025-04-13 06:07:46.438423: E external/local_xla/xla/stream_executor/cuda/cuda_blas.cc:1452] Unable to register cuBLAS factory: Attempting to register factory for plugin cuBLAS when one has already been registered\n",
      "2025-04-13 06:07:46.684433: I tensorflow/core/platform/cpu_feature_guard.cc:210] This TensorFlow binary is optimized to use available CPU instructions in performance-critical operations.\n",
      "To enable the following instructions: SSE4.1 SSE4.2 AVX AVX2 AVX512F AVX512_VNNI FMA, in other operations, rebuild TensorFlow with the appropriate compiler flags.\n",
      "/opt/conda/lib/python3.11/site-packages/pydantic/_internal/_fields.py:192: UserWarning: Field name \"json\" in \"MonitoringDatasetFormat\" shadows an attribute in parent \"Base\"\n",
      "  warnings.warn(\n"
     ]
    },
    {
     "name": "stdout",
     "output_type": "stream",
     "text": [
      "sagemaker.config INFO - Not applying SDK defaults from location: /etc/xdg/sagemaker/config.yaml\n",
      "sagemaker.config INFO - Not applying SDK defaults from location: /home/sagemaker-user/.config/sagemaker/config.yaml\n"
     ]
    }
   ],
   "source": [
    "from transformers import BertTokenizer, BertForSequenceClassification\n",
    "from sagemaker.drift_check_baselines import DriftCheckBaselines\n",
    "from sagemaker.workflow.model_step import ModelStep\n",
    "from sagemaker.s3 import S3Uploader, S3Downloader\n",
    "from sagemaker.model_metrics import ModelMetrics\n",
    "from sagemaker.inputs import CreateModelInput\n",
    "from sagemaker import ModelPackage, Session\n",
    "from botocore.exceptions import ClientError\n",
    "from sagemaker.model import Model\n",
    "from pathlib import Path\n",
    "\n",
    "import sagemaker\n",
    "import logging\n",
    "import torch\n",
    "import boto3\n",
    "import json\n",
    "import re\n",
    "import os"
   ]
  },
  {
   "cell_type": "code",
   "execution_count": null,
   "execution_state": "idle",
   "id": "4e837c07-42fe-4694-9a0d-f1d70d34a833",
   "metadata": {},
   "outputs": [],
   "source": [
    "# Initialize session and clients\n",
    "sagemaker_session = Session()\n",
    "role = sagemaker.get_execution_role()  # IAM role\n",
    "region = boto3.Session().region_name\n",
    "sm_client = boto3.client('sagemaker')\n",
    "s3_client = boto3.client('s3')"
   ]
  },
  {
   "cell_type": "code",
   "execution_count": null,
   "execution_state": "idle",
   "id": "30eb021e-f7d2-41b5-9b60-81c2ffa52709",
   "metadata": {},
   "outputs": [],
   "source": [
    "model_bucket = 's3://fine-tuned-model-bert'\n",
    "\n",
    "downloader = S3Downloader()\n",
    "\n",
    "downloader.download(model_bucket, '.')"
   ]
  },
  {
   "cell_type": "code",
   "execution_count": 3,
   "execution_state": "idle",
   "id": "0d137c14-d6e4-47d9-9469-3abc578adaad",
   "metadata": {},
   "outputs": [],
   "source": [
    "device = 'cuda' if torch.cuda.is_available() else 'cpu'"
   ]
  },
  {
   "cell_type": "code",
   "execution_count": 4,
   "execution_state": "idle",
   "id": "39459854-f05f-4c56-96ad-01555ebd3d63",
   "metadata": {},
   "outputs": [],
   "source": [
    "model_2 = BertForSequenceClassification.from_pretrained('CustomModel')\n",
    "model_2 = model_2.to(device)\n",
    "tokenizer = BertTokenizer.from_pretrained('bert-base-uncased')"
   ]
  },
  {
   "cell_type": "code",
   "execution_count": 6,
   "execution_state": "idle",
   "id": "6b35a7a9-27dc-4581-a9ba-eb9ddac46a18",
   "metadata": {
    "scrolled": true
   },
   "outputs": [
    {
     "data": {
      "text/plain": [
       "['book-text-info/The-Bible/The-Bible-book-audio-text.txt',\n",
       " 'book-text-info/The-Bible/The-Bible-character-dialogue.txt',\n",
       " 'book-text-info/alice-in-wonderland/alice-in-wonderland-book-audio-text-tagged.txt',\n",
       " 'book-text-info/alice-in-wonderland/alice-in-wonderland-book-audio-text.txt',\n",
       " 'book-text-info/alice-in-wonderland/alice-in-wonderland-character-dialogue.txt',\n",
       " 'book-text-info/alice-in-wonderland/alice-in-wonderland-person-quotes.json',\n",
       " 'book-text-info/chapter2/chapter2-book-audio-text-tagged.txt',\n",
       " 'book-text-info/chapter2/chapter2-book-audio-text.txt',\n",
       " 'book-text-info/chapter2/chapter2-character-dialogue.txt',\n",
       " 'book-text-info/chapter4/chapter4-book-audio-text-tagged.txt',\n",
       " 'book-text-info/chapter4/chapter4-book-audio-text.txt',\n",
       " 'book-text-info/chapter4/chapter4-character-dialogue.txt',\n",
       " 'book-text-info/chapter4/chapter4-person-quotes.json',\n",
       " 'book-text-info/chapter4/working-voices.json',\n",
       " 'book-text-info/example_book/example_audio_text.txt',\n",
       " 'book-text-info/example_book/example_character_dialogue.txt',\n",
       " 'book-text-info/frankenstein/frankenstein-book-audio-text.txt',\n",
       " 'book-text-info/frankenstein/frankenstein-character-dialogue.txt']"
      ]
     },
     "execution_count": 6,
     "metadata": {},
     "output_type": "execute_result"
    }
   ],
   "source": [
    "quote_bucket = 's3://book-text-info'\n",
    "downloader = S3Downloader()\n",
    "downloader.download(quote_bucket, 'book-text-info')"
   ]
  },
  {
   "cell_type": "code",
   "execution_count": 7,
   "execution_state": "idle",
   "id": "e52acb09-f3b0-4c84-8fbb-5da9544feae9",
   "metadata": {},
   "outputs": [],
   "source": [
    "book_path = Path('book-text-info/frankenstein')\n",
    "dialogue = book_path.joinpath(f'{book_path.name}-character-dialogue.txt')\n",
    "with open(dialogue) as f:\n",
    "    lines = f.readlines()"
   ]
  },
  {
   "cell_type": "code",
   "execution_count": 8,
   "execution_state": "idle",
   "id": "00df9bd7-770b-4fb6-b8e8-1cc10a9a0571",
   "metadata": {},
   "outputs": [],
   "source": [
    "person_quotes = {}\n",
    "for line in lines:\n",
    "    name_words = line.split(':')\n",
    "    name = name_words[0]\n",
    "\n",
    "    words = ':'.join(name_words[1:])\n",
    "    words = words.split()\n",
    "    quotes = []\n",
    "    quote = []\n",
    "    start = True\n",
    "    for word in words:\n",
    "        if '\"' in word and start:\n",
    "            start = False\n",
    "            continue\n",
    "        if '\"' in word and not start:\n",
    "            start = True\n",
    "            quotes.append(' '.join(quote))\n",
    "            quote = []\n",
    "            continue\n",
    "        quote.append(word.strip())\n",
    "\n",
    "    if name in person_quotes:\n",
    "        person_quotes[name].extend(quotes)\n",
    "    else:\n",
    "        person_quotes[name] = quotes"
   ]
  },
  {
   "cell_type": "code",
   "execution_count": 9,
   "execution_state": "idle",
   "id": "850f8dca-beeb-4aff-bd60-4fe3d210ae4f",
   "metadata": {},
   "outputs": [],
   "source": [
    "with open('int-mappings.json') as f:\n",
    "    mappings = json.load(f)"
   ]
  },
  {
   "cell_type": "code",
   "execution_count": 10,
   "execution_state": "idle",
   "id": "093e3d1d-e52c-44e7-8c64-867921f123c1",
   "metadata": {},
   "outputs": [],
   "source": [
    "for name, quotes in person_quotes.items():\n",
    "    if len(quotes) == 0: continue\n",
    "    inputs = tokenizer(quotes, padding=True, truncation=True, return_tensors='pt').to(device)\n",
    "    with torch.no_grad():\n",
    "        outputs = model_2(**inputs)\n",
    "    predictions = torch.nn.functional.softmax(outputs.logits, dim=-1)\n",
    "    predictions = predictions.cpu().detach()\n",
    "    res = torch.multinomial(predictions, 1).reshape(-1,).tolist()\n",
    "\n",
    "    new_quotes = []\n",
    "    for i, cls in enumerate(res):\n",
    "        # TODO: Add in TTS model name here\n",
    "        tone = mappings[str(cls)]\n",
    "        new_quotes.append(f'<google:style name=\"{tone}\">{quotes[i]}</google:style>')\n",
    "\n",
    "    person_quotes[name] = new_quotes"
   ]
  },
  {
   "cell_type": "code",
   "execution_count": 11,
   "execution_state": "idle",
   "id": "562eac20-41e2-4a5e-8e08-f731fdcf2856",
   "metadata": {},
   "outputs": [],
   "source": [
    "book_quotes = book_path.joinpath(f'{book_path.name}-person-quotes.json')\n",
    "with open(book_quotes, 'w') as f:\n",
    "    json.dump(person_quotes, f)"
   ]
  },
  {
   "cell_type": "code",
   "execution_count": 12,
   "execution_state": "idle",
   "id": "76060fed-989a-4aa3-be66-4e9506aacf14",
   "metadata": {},
   "outputs": [
    {
     "data": {
      "text/plain": [
       "'s3://book-text-info/frankenstein/frankenstein-person-quotes.json'"
      ]
     },
     "execution_count": 12,
     "metadata": {},
     "output_type": "execute_result"
    }
   ],
   "source": [
    "quote_bucket = f's3://book-text-info/{book_path.name}'\n",
    "uploader = S3Uploader()\n",
    "uploader.upload(book_quotes, quote_bucket)"
   ]
  },
  {
   "cell_type": "code",
   "execution_count": null,
   "id": "2dfe33a5-3a1a-4abf-8aca-a4b632385427",
   "metadata": {},
   "outputs": [],
   "source": []
  }
 ],
 "metadata": {
  "kernelspec": {
   "display_name": "Python 3 (ipykernel)",
   "language": "python",
   "name": "python3"
  },
  "language_info": {
   "codemirror_mode": {
    "name": "ipython",
    "version": 3
   },
   "file_extension": ".py",
   "mimetype": "text/x-python",
   "name": "python",
   "nbconvert_exporter": "python",
   "pygments_lexer": "ipython3",
   "version": "3.11.11"
  }
 },
 "nbformat": 4,
 "nbformat_minor": 5
}
